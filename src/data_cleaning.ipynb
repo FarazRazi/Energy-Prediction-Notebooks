{
 "cells": [
  {
   "cell_type": "markdown",
   "metadata": {},
   "source": [
    "# Energy Prediction: Data Cleaning\n"
   ]
  },
  {
   "cell_type": "code",
   "execution_count": 24,
   "metadata": {},
   "outputs": [
    {
     "data": {
      "text/plain": [
       "'f:\\\\Work\\\\Energy Prediction\\\\data'"
      ]
     },
     "execution_count": 24,
     "metadata": {},
     "output_type": "execute_result"
    }
   ],
   "source": [
    "# Imports\n",
    "import os\n",
    "import pandas as pd\n",
    "import numpy as np\n",
    "\n",
    "import matplotlib.pyplot as plt\n",
    "\n",
    "import warnings\n",
    "warnings.filterwarnings('ignore')\n",
    "\n",
    "data_path = os.path.join(os.path.dirname(os.getcwd()), 'data')\n",
    "data_path"
   ]
  },
  {
   "cell_type": "markdown",
   "metadata": {},
   "source": [
    "## Data reading and cleaning\n"
   ]
  },
  {
   "cell_type": "code",
   "execution_count": 4,
   "metadata": {},
   "outputs": [
    {
     "data": {
      "text/html": [
       "<div>\n",
       "<style scoped>\n",
       "    .dataframe tbody tr th:only-of-type {\n",
       "        vertical-align: middle;\n",
       "    }\n",
       "\n",
       "    .dataframe tbody tr th {\n",
       "        vertical-align: top;\n",
       "    }\n",
       "\n",
       "    .dataframe thead th {\n",
       "        text-align: right;\n",
       "    }\n",
       "</style>\n",
       "<table border=\"1\" class=\"dataframe\">\n",
       "  <thead>\n",
       "    <tr style=\"text-align: right;\">\n",
       "      <th></th>\n",
       "      <th>country_or_area</th>\n",
       "      <th>commodity_transaction</th>\n",
       "      <th>year</th>\n",
       "      <th>unit</th>\n",
       "      <th>quantity</th>\n",
       "      <th>quantity_footnotes</th>\n",
       "      <th>category</th>\n",
       "    </tr>\n",
       "  </thead>\n",
       "  <tbody>\n",
       "    <tr>\n",
       "      <th>151622</th>\n",
       "      <td>Mexico</td>\n",
       "      <td>Coal Tar - Non-energy uses</td>\n",
       "      <td>2012</td>\n",
       "      <td>Metric tons,  thousand</td>\n",
       "      <td>143.00</td>\n",
       "      <td>NaN</td>\n",
       "      <td>coal_tar</td>\n",
       "    </tr>\n",
       "    <tr>\n",
       "      <th>849247</th>\n",
       "      <td>Brazil</td>\n",
       "      <td>Natural gas liquids - Production</td>\n",
       "      <td>2008</td>\n",
       "      <td>Metric tons,  thousand</td>\n",
       "      <td>3334.00</td>\n",
       "      <td>NaN</td>\n",
       "      <td>natural_gas_liquids</td>\n",
       "    </tr>\n",
       "    <tr>\n",
       "      <th>221058</th>\n",
       "      <td>Colombia</td>\n",
       "      <td>Electricity - net installed capacity of electr...</td>\n",
       "      <td>2011</td>\n",
       "      <td>Kilowatts,  thousand</td>\n",
       "      <td>522.00</td>\n",
       "      <td>1.0</td>\n",
       "      <td>electricity_net_installed_capacity_of_electric...</td>\n",
       "    </tr>\n",
       "    <tr>\n",
       "      <th>828917</th>\n",
       "      <td>Congo</td>\n",
       "      <td>Natural gas (including LNG) - production</td>\n",
       "      <td>2012</td>\n",
       "      <td>Terajoules</td>\n",
       "      <td>8293.00</td>\n",
       "      <td>NaN</td>\n",
       "      <td>natural_gas_including_lng</td>\n",
       "    </tr>\n",
       "    <tr>\n",
       "      <th>107014</th>\n",
       "      <td>Germany</td>\n",
       "      <td>Brown coal - Consumption by non-metallic miner...</td>\n",
       "      <td>2013</td>\n",
       "      <td>Metric tons,  thousand</td>\n",
       "      <td>0.00</td>\n",
       "      <td>NaN</td>\n",
       "      <td>brown_coal</td>\n",
       "    </tr>\n",
       "    <tr>\n",
       "      <th>417238</th>\n",
       "      <td>Italy</td>\n",
       "      <td>Gas Oil/ Diesel Oil - Consumption in domestic ...</td>\n",
       "      <td>2014</td>\n",
       "      <td>Metric tons,  thousand</td>\n",
       "      <td>618.00</td>\n",
       "      <td>NaN</td>\n",
       "      <td>gas_oil_diesel_oil</td>\n",
       "    </tr>\n",
       "    <tr>\n",
       "      <th>18473</th>\n",
       "      <td>Niue</td>\n",
       "      <td>Aviation gasoline - Final energy consumption</td>\n",
       "      <td>2007</td>\n",
       "      <td>Metric tons,  thousand</td>\n",
       "      <td>0.02</td>\n",
       "      <td>1.0</td>\n",
       "      <td>aviation_gasoline</td>\n",
       "    </tr>\n",
       "    <tr>\n",
       "      <th>535713</th>\n",
       "      <td>United Kingdom</td>\n",
       "      <td>From combustible fuels – Autoproducer – Heat p...</td>\n",
       "      <td>1999</td>\n",
       "      <td>Terajoules</td>\n",
       "      <td>101436.00</td>\n",
       "      <td>NaN</td>\n",
       "      <td>heat</td>\n",
       "    </tr>\n",
       "    <tr>\n",
       "      <th>596670</th>\n",
       "      <td>Syrian Arab Republic</td>\n",
       "      <td>Kerosene-type Jet Fuel - International aviatio...</td>\n",
       "      <td>2010</td>\n",
       "      <td>Metric tons,  thousand</td>\n",
       "      <td>30.00</td>\n",
       "      <td>NaN</td>\n",
       "      <td>kerosene_type_jet_fuel</td>\n",
       "    </tr>\n",
       "    <tr>\n",
       "      <th>832181</th>\n",
       "      <td>Romania</td>\n",
       "      <td>Natural gas (including LNG) - stock changes</td>\n",
       "      <td>2001</td>\n",
       "      <td>Terajoules</td>\n",
       "      <td>-4242.00</td>\n",
       "      <td>NaN</td>\n",
       "      <td>natural_gas_including_lng</td>\n",
       "    </tr>\n",
       "  </tbody>\n",
       "</table>\n",
       "</div>"
      ],
      "text/plain": [
       "             country_or_area  \\\n",
       "151622                Mexico   \n",
       "849247                Brazil   \n",
       "221058              Colombia   \n",
       "828917                 Congo   \n",
       "107014               Germany   \n",
       "417238                 Italy   \n",
       "18473                   Niue   \n",
       "535713        United Kingdom   \n",
       "596670  Syrian Arab Republic   \n",
       "832181               Romania   \n",
       "\n",
       "                                    commodity_transaction  year  \\\n",
       "151622                         Coal Tar - Non-energy uses  2012   \n",
       "849247                   Natural gas liquids - Production  2008   \n",
       "221058  Electricity - net installed capacity of electr...  2011   \n",
       "828917           Natural gas (including LNG) - production  2012   \n",
       "107014  Brown coal - Consumption by non-metallic miner...  2013   \n",
       "417238  Gas Oil/ Diesel Oil - Consumption in domestic ...  2014   \n",
       "18473        Aviation gasoline - Final energy consumption  2007   \n",
       "535713  From combustible fuels – Autoproducer – Heat p...  1999   \n",
       "596670  Kerosene-type Jet Fuel - International aviatio...  2010   \n",
       "832181        Natural gas (including LNG) - stock changes  2001   \n",
       "\n",
       "                          unit   quantity  quantity_footnotes  \\\n",
       "151622  Metric tons,  thousand     143.00                 NaN   \n",
       "849247  Metric tons,  thousand    3334.00                 NaN   \n",
       "221058    Kilowatts,  thousand     522.00                 1.0   \n",
       "828917              Terajoules    8293.00                 NaN   \n",
       "107014  Metric tons,  thousand       0.00                 NaN   \n",
       "417238  Metric tons,  thousand     618.00                 NaN   \n",
       "18473   Metric tons,  thousand       0.02                 1.0   \n",
       "535713              Terajoules  101436.00                 NaN   \n",
       "596670  Metric tons,  thousand      30.00                 NaN   \n",
       "832181              Terajoules   -4242.00                 NaN   \n",
       "\n",
       "                                                 category  \n",
       "151622                                           coal_tar  \n",
       "849247                                natural_gas_liquids  \n",
       "221058  electricity_net_installed_capacity_of_electric...  \n",
       "828917                          natural_gas_including_lng  \n",
       "107014                                         brown_coal  \n",
       "417238                                 gas_oil_diesel_oil  \n",
       "18473                                   aviation_gasoline  \n",
       "535713                                               heat  \n",
       "596670                             kerosene_type_jet_fuel  \n",
       "832181                          natural_gas_including_lng  "
      ]
     },
     "execution_count": 4,
     "metadata": {},
     "output_type": "execute_result"
    }
   ],
   "source": [
    "# read csv data\n",
    "df = pd.read_csv(data_path + '/raw_data/raw_energy_data.csv')\n",
    "df.sample(10)\n"
   ]
  },
  {
   "cell_type": "code",
   "execution_count": 5,
   "metadata": {},
   "outputs": [
    {
     "data": {
      "text/plain": [
       "Index(['country_or_area', 'commodity_transaction', 'year', 'unit', 'quantity',\n",
       "       'quantity_footnotes', 'category'],\n",
       "      dtype='object')"
      ]
     },
     "execution_count": 5,
     "metadata": {},
     "output_type": "execute_result"
    }
   ],
   "source": [
    "df.columns"
   ]
  },
  {
   "cell_type": "markdown",
   "metadata": {},
   "source": [
    "### Dropping Unnecessary Columns\n"
   ]
  },
  {
   "cell_type": "code",
   "execution_count": 6,
   "metadata": {},
   "outputs": [
    {
     "data": {
      "text/plain": [
       "country_or_area                0\n",
       "commodity_transaction          0\n",
       "year                           0\n",
       "unit                           0\n",
       "quantity                       0\n",
       "quantity_footnotes       1025536\n",
       "category                       0\n",
       "dtype: int64"
      ]
     },
     "execution_count": 6,
     "metadata": {},
     "output_type": "execute_result"
    }
   ],
   "source": [
    "df.isna().sum()"
   ]
  },
  {
   "cell_type": "markdown",
   "metadata": {},
   "source": [
    "The quantity_footnotes has lot of missing values. We will drop this column.\n"
   ]
  },
  {
   "cell_type": "code",
   "execution_count": 7,
   "metadata": {},
   "outputs": [
    {
     "data": {
      "text/plain": [
       "Index(['country_or_area', 'commodity_transaction', 'year', 'unit', 'quantity',\n",
       "       'category'],\n",
       "      dtype='object')"
      ]
     },
     "execution_count": 7,
     "metadata": {},
     "output_type": "execute_result"
    }
   ],
   "source": [
    "df = df.drop(df[['quantity_footnotes']], axis=1)\n",
    "df.columns"
   ]
  },
  {
   "cell_type": "markdown",
   "metadata": {},
   "source": [
    "### Checking Unique Values in each column\n"
   ]
  },
  {
   "cell_type": "code",
   "execution_count": 8,
   "metadata": {},
   "outputs": [
    {
     "name": "stdout",
     "output_type": "stream",
     "text": [
      "Total rows:  1189482\n",
      "Unique countries:  243\n",
      "Unique commodities:  2452\n",
      "Unique years:  25\n",
      "Unique units:  6\n",
      "Unique quantity:  137659\n",
      "Unique categories:  71\n"
     ]
    }
   ],
   "source": [
    "columns = ['country_or_area', 'commodity_transaction', 'year', 'unit', 'quantity',\n",
    "           'category']\n",
    "\n",
    "unique_countries = df['country_or_area'].unique()\n",
    "unique_commodities = df['commodity_transaction'].unique()\n",
    "unique_years = df['year'].unique()\n",
    "unique_units = df['unit'].unique()\n",
    "unique_quantity = df['quantity'].unique()\n",
    "unique_categories = df['category'].unique()\n",
    "\n",
    "print('Total rows: ', df.shape[0])\n",
    "print('Unique countries: ', len(unique_countries))\n",
    "print('Unique commodities: ', len(unique_commodities))\n",
    "print('Unique years: ', len(unique_years))\n",
    "print('Unique units: ', len(unique_units))\n",
    "print('Unique quantity: ', len(unique_quantity))\n",
    "print('Unique categories: ', len(unique_categories))\n"
   ]
  },
  {
   "cell_type": "markdown",
   "metadata": {},
   "source": [
    "Here we will check the unique values in each column. This will help us in identifying the categorical columns and numerical columns.\n",
    "\n",
    "`Countries: ` There are 227 countries in the dataset. We will check the countries which have the highest and lowest energy consumption.\n",
    "\n",
    "`Commodity Transactions: ` There are 2452 unique commodity transactions. It means this column has lot more information than just the commodity name. We will need to further explore this column.\n",
    "\n",
    "`Year: ` The data is available from 1960 to 2014. We will check the year with the highest and lowest energy consumption.\n",
    "\n",
    "`Unit: ` There are 6 unique units. We will need to convert the units to a common unit. most prefarably to frequent unit.\n",
    "\n",
    "`Quantity: ` The quantity column is fine as it is. We will need to convert the units to a common unit. and only need Quantity column for our analysis.\n",
    "\n",
    "`Category: ` There are 71 unique categories. that sounds good.\n"
   ]
  },
  {
   "cell_type": "markdown",
   "metadata": {},
   "source": [
    "### Fix Commodity Transactions\n"
   ]
  },
  {
   "cell_type": "code",
   "execution_count": 9,
   "metadata": {},
   "outputs": [
    {
     "data": {
      "text/plain": [
       "211922    Electricity - net installed capacity of electr...\n",
       "845519    Natural Gas (including LNG) - transformation i...\n",
       "275198    Fuel oil - Consumption by other manuf., const....\n",
       "118583    Brown coal - Transformation in autoproducer CH...\n",
       "7262                         Anthracite - Final consumption\n",
       "160289                           Coke Oven Gas - Production\n",
       "827805    Natural gas (including LNG) - own use by oil r...\n",
       "739425                             Motor Gasoline - Imports\n",
       "665934    Liquefied petroleum gas (LPG) - Total energy s...\n",
       "457187     Gas Oil/ Diesel Oil - production from refineries\n",
       "Name: commodity_transaction, dtype: object"
      ]
     },
     "execution_count": 9,
     "metadata": {},
     "output_type": "execute_result"
    }
   ],
   "source": [
    "# get random sample of 10 rows from commodity_transaction\n",
    "df['commodity_transaction'].sample(10)"
   ]
  },
  {
   "cell_type": "markdown",
   "metadata": {},
   "source": [
    "here each commodity transaction has 3 parts.\n",
    "\n",
    "1. Commodity Name\n",
    "2. Commodity Transaction\n",
    "3. Additional Information\n",
    "\n",
    "For example, the first row has the following information.\n",
    "\n",
    "1. Commodity Name: Electricity - total\n",
    "2. Commodity Transaction: Production\n",
    "3. Additional Information: Including from combustible fuels\n",
    "\n",
    "We will split the commodity transaction column into 3 columns.\n"
   ]
  },
  {
   "cell_type": "code",
   "execution_count": 10,
   "metadata": {},
   "outputs": [
    {
     "data": {
      "text/html": [
       "<div>\n",
       "<style scoped>\n",
       "    .dataframe tbody tr th:only-of-type {\n",
       "        vertical-align: middle;\n",
       "    }\n",
       "\n",
       "    .dataframe tbody tr th {\n",
       "        vertical-align: top;\n",
       "    }\n",
       "\n",
       "    .dataframe thead th {\n",
       "        text-align: right;\n",
       "    }\n",
       "</style>\n",
       "<table border=\"1\" class=\"dataframe\">\n",
       "  <thead>\n",
       "    <tr style=\"text-align: right;\">\n",
       "      <th></th>\n",
       "      <th>country_or_area</th>\n",
       "      <th>commodity_transaction</th>\n",
       "      <th>year</th>\n",
       "      <th>unit</th>\n",
       "      <th>quantity</th>\n",
       "      <th>category</th>\n",
       "      <th>commodity_name</th>\n",
       "      <th>additional_information</th>\n",
       "    </tr>\n",
       "  </thead>\n",
       "  <tbody>\n",
       "    <tr>\n",
       "      <th>778533</th>\n",
       "      <td>Brunei Darussalam</td>\n",
       "      <td>Total energy supply</td>\n",
       "      <td>2002</td>\n",
       "      <td>Metric tons,  thousand</td>\n",
       "      <td>119.000000</td>\n",
       "      <td>naphtha</td>\n",
       "      <td>Naphtha</td>\n",
       "      <td>None</td>\n",
       "    </tr>\n",
       "    <tr>\n",
       "      <th>756808</th>\n",
       "      <td>Paraguay</td>\n",
       "      <td>Total energy supply</td>\n",
       "      <td>2014</td>\n",
       "      <td>Metric tons,  thousand</td>\n",
       "      <td>554.610000</td>\n",
       "      <td>motor_gasoline</td>\n",
       "      <td>Motor Gasoline</td>\n",
       "      <td>None</td>\n",
       "    </tr>\n",
       "    <tr>\n",
       "      <th>1069881</th>\n",
       "      <td>Paraguay</td>\n",
       "      <td>Consumption by other manuf., const. and non-fu...</td>\n",
       "      <td>2013</td>\n",
       "      <td>Kilowatt-hours, million</td>\n",
       "      <td>3566.950000</td>\n",
       "      <td>total_electricity</td>\n",
       "      <td>Electricity</td>\n",
       "      <td>None</td>\n",
       "    </tr>\n",
       "    <tr>\n",
       "      <th>1158054</th>\n",
       "      <td>Republic of Moldova</td>\n",
       "      <td>None</td>\n",
       "      <td>2011</td>\n",
       "      <td>Kilowatt-hours, million</td>\n",
       "      <td>906.000000</td>\n",
       "      <td>total_electricity</td>\n",
       "      <td>From combustible fuels – Main activity – Elect...</td>\n",
       "      <td>None</td>\n",
       "    </tr>\n",
       "    <tr>\n",
       "      <th>584795</th>\n",
       "      <td>Madagascar</td>\n",
       "      <td>Final consumption</td>\n",
       "      <td>2001</td>\n",
       "      <td>Metric tons,  thousand</td>\n",
       "      <td>40.089069</td>\n",
       "      <td>kerosene_type_jet_fuel</td>\n",
       "      <td>Kerosene-type Jet Fuel</td>\n",
       "      <td>None</td>\n",
       "    </tr>\n",
       "  </tbody>\n",
       "</table>\n",
       "</div>"
      ],
      "text/plain": [
       "             country_or_area  \\\n",
       "778533     Brunei Darussalam   \n",
       "756808              Paraguay   \n",
       "1069881             Paraguay   \n",
       "1158054  Republic of Moldova   \n",
       "584795            Madagascar   \n",
       "\n",
       "                                     commodity_transaction  year  \\\n",
       "778533                                 Total energy supply  2002   \n",
       "756808                                 Total energy supply  2014   \n",
       "1069881  Consumption by other manuf., const. and non-fu...  2013   \n",
       "1158054                                               None  2011   \n",
       "584795                                   Final consumption  2001   \n",
       "\n",
       "                            unit     quantity                category  \\\n",
       "778533    Metric tons,  thousand   119.000000                 naphtha   \n",
       "756808    Metric tons,  thousand   554.610000          motor_gasoline   \n",
       "1069881  Kilowatt-hours, million  3566.950000       total_electricity   \n",
       "1158054  Kilowatt-hours, million   906.000000       total_electricity   \n",
       "584795    Metric tons,  thousand    40.089069  kerosene_type_jet_fuel   \n",
       "\n",
       "                                            commodity_name  \\\n",
       "778533                                             Naphtha   \n",
       "756808                                      Motor Gasoline   \n",
       "1069881                                        Electricity   \n",
       "1158054  From combustible fuels – Main activity – Elect...   \n",
       "584795                              Kerosene-type Jet Fuel   \n",
       "\n",
       "        additional_information  \n",
       "778533                    None  \n",
       "756808                    None  \n",
       "1069881                   None  \n",
       "1158054                   None  \n",
       "584795                    None  "
      ]
     },
     "execution_count": 10,
     "metadata": {},
     "output_type": "execute_result"
    }
   ],
   "source": [
    "# select commodity_transaction rows on the basis of ' commodity_name - commodity_transaction - additional_information '\n",
    "df[['commodity_name', 'commodity_transaction', 'additional_information']\n",
    "   ] = df['commodity_transaction'].str.split(' - ', expand=True)\n",
    "df.sample(5)\n"
   ]
  },
  {
   "cell_type": "code",
   "execution_count": 11,
   "metadata": {},
   "outputs": [
    {
     "name": "stdout",
     "output_type": "stream",
     "text": [
      "Unique commodities name:  143\n",
      "Unique commodities transaction:  320\n",
      "Unique additional information:  6\n"
     ]
    }
   ],
   "source": [
    "# Check unique values in new columns\n",
    "unique_commodities_name = df['commodity_name'].unique()\n",
    "unique_commodities_transaction = df['commodity_transaction'].unique()\n",
    "unique_additional_information = df['additional_information'].unique()\n",
    "\n",
    "print('Unique commodities name: ', len(unique_commodities_name))\n",
    "print('Unique commodities transaction: ', len(unique_commodities_transaction))\n",
    "print('Unique additional information: ', len(unique_additional_information))"
   ]
  },
  {
   "cell_type": "markdown",
   "metadata": {},
   "source": [
    "These unique numbers are better than the commodity transaction column. We will use these columns for our analysis.\n"
   ]
  },
  {
   "cell_type": "markdown",
   "metadata": {},
   "source": [
    "### Fixing Units\n"
   ]
  },
  {
   "cell_type": "code",
   "execution_count": 12,
   "metadata": {},
   "outputs": [
    {
     "data": {
      "text/plain": [
       "Metric tons,  thousand     759859\n",
       "Terajoules                 178937\n",
       "Kilowatt-hours, million    147741\n",
       "Cubic metres, thousand      52032\n",
       "Kilowatts,  thousand        50229\n",
       "Metric Tons                   684\n",
       "Name: unit, dtype: int64"
      ]
     },
     "execution_count": 12,
     "metadata": {},
     "output_type": "execute_result"
    }
   ],
   "source": [
    "# Find most common Unit\n",
    "df['unit'].value_counts()"
   ]
  },
  {
   "cell_type": "markdown",
   "metadata": {},
   "source": [
    "`Metric tons, thousand` is the most frequent unit. We will convert all the units to this unit.\n"
   ]
  },
  {
   "cell_type": "code",
   "execution_count": 13,
   "metadata": {},
   "outputs": [],
   "source": [
    "quantity_mapping = {\n",
    "    'Terajoules': 0.000000001,  # Convert to metric tons\n",
    "    'Kilowatt-hours, million': 0.000000278,  # Convert to metric tons\n",
    "    'Cubic metres, thousand': 0.000852113,  # Convert to metric tons\n",
    "    'Kilowatts, thousand': 0.000000086,  # Convert to kilowatts\n",
    "    'Metric Tons': 1,  # No conversion needed for the same unit\n",
    "}\n",
    "\n",
    "df['quantity'] = df['quantity'] * df['unit'].map(quantity_mapping).fillna(1)\n",
    "df = df.drop(df[['unit']], axis=1)\n"
   ]
  },
  {
   "cell_type": "markdown",
   "metadata": {},
   "source": [
    "### Save Interim Data\n"
   ]
  },
  {
   "cell_type": "code",
   "execution_count": 61,
   "metadata": {},
   "outputs": [],
   "source": [
    "df.to_csv(data_path + '/interim_data/energy.csv', index=False)"
   ]
  },
  {
   "cell_type": "markdown",
   "metadata": {},
   "source": [
    "# Global Population Cleanup\n"
   ]
  },
  {
   "cell_type": "code",
   "execution_count": 46,
   "metadata": {},
   "outputs": [
    {
     "data": {
      "text/plain": [
       "Index(['Country Name', 'Country Code', 'Indicator Name', 'Indicator Code',\n",
       "       '1960', '1961', '1962', '1963', '1964', '1965', '1966', '1967', '1968',\n",
       "       '1969', '1970', '1971', '1972', '1973', '1974', '1975', '1976', '1977',\n",
       "       '1978', '1979', '1980', '1981', '1982', '1983', '1984', '1985', '1986',\n",
       "       '1987', '1988', '1989', '1990', '1991', '1992', '1993', '1994', '1995',\n",
       "       '1996', '1997', '1998', '1999', '2000', '2001', '2002', '2003', '2004',\n",
       "       '2005', '2006', '2007', '2008', '2009', '2010', '2011', '2012', '2013'],\n",
       "      dtype='object')"
      ]
     },
     "execution_count": 46,
     "metadata": {},
     "output_type": "execute_result"
    }
   ],
   "source": [
    "# import population data '/raw_data/Country-Population.xls'\n",
    "columns = ['Country Name', 'Country Code', 'Indicator Name', 'Indicator Code', '1960', '1961', '1962', '1963',\n",
    "           '1964', '1965', '1966', '1967', '1968', '1969', '1970', '1971',\n",
    "           '1972', '1973', '1974', '1975', '1976', '1977', '1978', '1979',\n",
    "           '1980', '1981', '1982', '1983', '1984', '1985', '1986', '1987',\n",
    "           '1988', '1989', '1990', '1991', '1992', '1993', '1994', '1995',\n",
    "           '1996', '1997', '1998', '1999', '2000', '2001', '2002', '2003',\n",
    "           '2004', '2005', '2006', '2007', '2008', '2009', '2010', '2011',\n",
    "           '2012', '2013']\n",
    "\n",
    "population = pd.read_excel(\n",
    "    data_path + '/raw_data/Country-Population.xls', sheet_name='Data', usecols=columns)\n",
    "\n",
    "population.columns\n"
   ]
  },
  {
   "cell_type": "code",
   "execution_count": 47,
   "metadata": {},
   "outputs": [
    {
     "data": {
      "text/plain": [
       "Index(['country', 'Country Code', '1990', '1991', '1992', '1993', '1994',\n",
       "       '1995', '1996', '1997', '1998', '1999', '2000', '2001', '2002', '2003',\n",
       "       '2004', '2005', '2006', '2007', '2008', '2009', '2010', '2011', '2012',\n",
       "       '2013'],\n",
       "      dtype='object')"
      ]
     },
     "execution_count": 47,
     "metadata": {},
     "output_type": "execute_result"
    }
   ],
   "source": [
    "# remove 'Country Code', 'Indicator Name', 'Indicator Code',\n",
    "# '1960', '1961', '1962', '1963', '1964', '1965', '1966', '1967', '1968',\n",
    "# '1969', '1970', '1971', '1972', '1973', '1974', '1975', '1976', '1977',\n",
    "# '1978', '1979', '1980', '1981', '1982', '1983', '1984', '1985', '1986',\n",
    "#  '1987', '1988', '1989',\n",
    "\n",
    "# drop columns\n",
    "population = population.drop(columns=['Indicator Name', 'Indicator Code',\n",
    "                                      '1960', '1961', '1962', '1963', '1964', '1965',\n",
    "                                      '1966', '1967', '1968', '1969', '1970', '1971',\n",
    "                                      '1972', '1973', '1974', '1975', '1976', '1977',\n",
    "                                      '1978', '1979', '1980', '1981', '1982', '1983',\n",
    "                                      '1984', '1985', '1986', '1987', '1988', '1989'])\n",
    "\n",
    "# rename 'Country Name' to 'country'\n",
    "population = population.rename(columns={'Country Name': 'country'})\n",
    "\n",
    "population.columns\n"
   ]
  },
  {
   "cell_type": "code",
   "execution_count": 48,
   "metadata": {},
   "outputs": [],
   "source": [
    "# save population data to csv file\n",
    "population.to_csv(data_path + '/interim_data/population.csv', index=False)"
   ]
  },
  {
   "cell_type": "markdown",
   "metadata": {},
   "source": [
    "# GDP Dataset\n"
   ]
  },
  {
   "cell_type": "code",
   "execution_count": 58,
   "metadata": {},
   "outputs": [
    {
     "data": {
      "text/plain": [
       "Index(['Country ', 'Country Code', '1990', '1991', '1992', '1993', '1994',\n",
       "       '1995', '1996', '1997', '1998', '1999', '2000', '2001', '2002', '2003',\n",
       "       '2004', '2005', '2006', '2007', '2008', '2009', '2010', '2011', '2012',\n",
       "       '2013', '2014', '2015', '2016', '2017', '2018', '2019'],\n",
       "      dtype='object')"
      ]
     },
     "execution_count": 58,
     "metadata": {},
     "output_type": "execute_result"
    }
   ],
   "source": [
    "# import dataset\n",
    "gdp = pd.read_csv(data_path + '/raw_data/GDP.csv')\n",
    "gdp.columns"
   ]
  },
  {
   "cell_type": "code",
   "execution_count": 59,
   "metadata": {},
   "outputs": [
    {
     "data": {
      "text/plain": [
       "Index(['Country ', 'Country Code', '1990', '1991', '1992', '1993', '1994',\n",
       "       '1995', '1996', '1997', '1998', '1999', '2000', '2001', '2002', '2003',\n",
       "       '2004', '2005', '2006', '2007', '2008', '2009', '2010', '2011', '2012',\n",
       "       '2013'],\n",
       "      dtype='object')"
      ]
     },
     "execution_count": 59,
     "metadata": {},
     "output_type": "execute_result"
    }
   ],
   "source": [
    "# drop columns '2014', '2015', '2016', '2017', '2018', '2019'\n",
    "gdp = gdp.drop(['2014', '2015', '2016', '2017', '2018', '2019'], axis=1)\n",
    "\n",
    "gdp.columns"
   ]
  },
  {
   "cell_type": "code",
   "execution_count": 60,
   "metadata": {},
   "outputs": [],
   "source": [
    "# save data to csv file\n",
    "gdp.to_csv(data_path + '/interim_data/gdp.csv', index=False)"
   ]
  },
  {
   "cell_type": "markdown",
   "metadata": {},
   "source": [
    "# Global Inflation DataSet\n"
   ]
  },
  {
   "cell_type": "code",
   "execution_count": 75,
   "metadata": {},
   "outputs": [
    {
     "data": {
      "text/plain": [
       "Index(['Country Code', 'IMF Country Code', 'Country', 'Indicator Type',\n",
       "       'Series Name', '1970', '1971', '1972', '1973', '1974', '1975', '1976',\n",
       "       '1977', '1978', '1979', '1980', '1981', '1982', '1983', '1984', '1985',\n",
       "       '1986', '1987', '1988', '1989', '1990', '1991', '1992', '1993', '1994',\n",
       "       '1995', '1996', '1997', '1998', '1999', '2000', '2001', '2002', '2003',\n",
       "       '2004', '2005', '2006', '2007', '2008', '2009', '2010', '2011', '2012',\n",
       "       '2013', '2014', '2015', '2016', '2017', '2018', '2019', '2020', '2021',\n",
       "       '2022', 'Note', 'Unnamed: 59', 'Unnamed: 60', 'Unnamed: 61',\n",
       "       'Unnamed: 62', 'Unnamed: 63'],\n",
       "      dtype='object')"
      ]
     },
     "execution_count": 75,
     "metadata": {},
     "output_type": "execute_result"
    }
   ],
   "source": [
    "# import dataset\n",
    "gInf = pd.read_csv(\n",
    "    data_path + '/raw_data/Global_Dataset_of_Inflation.csv', encoding='latin-1')\n",
    "gInf.columns"
   ]
  },
  {
   "cell_type": "code",
   "execution_count": 76,
   "metadata": {},
   "outputs": [
    {
     "data": {
      "text/html": [
       "<div>\n",
       "<style scoped>\n",
       "    .dataframe tbody tr th:only-of-type {\n",
       "        vertical-align: middle;\n",
       "    }\n",
       "\n",
       "    .dataframe tbody tr th {\n",
       "        vertical-align: top;\n",
       "    }\n",
       "\n",
       "    .dataframe thead th {\n",
       "        text-align: right;\n",
       "    }\n",
       "</style>\n",
       "<table border=\"1\" class=\"dataframe\">\n",
       "  <thead>\n",
       "    <tr style=\"text-align: right;\">\n",
       "      <th></th>\n",
       "      <th>Country</th>\n",
       "      <th>1990</th>\n",
       "      <th>1991</th>\n",
       "      <th>1992</th>\n",
       "      <th>1993</th>\n",
       "      <th>1994</th>\n",
       "      <th>1995</th>\n",
       "      <th>1996</th>\n",
       "      <th>1997</th>\n",
       "      <th>1998</th>\n",
       "      <th>...</th>\n",
       "      <th>2004</th>\n",
       "      <th>2005</th>\n",
       "      <th>2006</th>\n",
       "      <th>2007</th>\n",
       "      <th>2008</th>\n",
       "      <th>2009</th>\n",
       "      <th>2010</th>\n",
       "      <th>2011</th>\n",
       "      <th>2012</th>\n",
       "      <th>2013</th>\n",
       "    </tr>\n",
       "  </thead>\n",
       "  <tbody>\n",
       "    <tr>\n",
       "      <th>203</th>\n",
       "      <td>Aruba</td>\n",
       "      <td>NaN</td>\n",
       "      <td>NaN</td>\n",
       "      <td>NaN</td>\n",
       "      <td>NaN</td>\n",
       "      <td>NaN</td>\n",
       "      <td>NaN</td>\n",
       "      <td>NaN</td>\n",
       "      <td>NaN</td>\n",
       "      <td>NaN</td>\n",
       "      <td>...</td>\n",
       "      <td>2.08</td>\n",
       "      <td>6.69</td>\n",
       "      <td>7.43</td>\n",
       "      <td>5.51</td>\n",
       "      <td>13.79</td>\n",
       "      <td>-8.20</td>\n",
       "      <td>9.43</td>\n",
       "      <td>7.16</td>\n",
       "      <td>0.810</td>\n",
       "      <td>-7.460</td>\n",
       "    </tr>\n",
       "    <tr>\n",
       "      <th>204</th>\n",
       "      <td>Afghanistan</td>\n",
       "      <td>66.1</td>\n",
       "      <td>NaN</td>\n",
       "      <td>NaN</td>\n",
       "      <td>NaN</td>\n",
       "      <td>NaN</td>\n",
       "      <td>NaN</td>\n",
       "      <td>NaN</td>\n",
       "      <td>NaN</td>\n",
       "      <td>NaN</td>\n",
       "      <td>...</td>\n",
       "      <td>NaN</td>\n",
       "      <td>NaN</td>\n",
       "      <td>10.46</td>\n",
       "      <td>3.31</td>\n",
       "      <td>8.41</td>\n",
       "      <td>2.48</td>\n",
       "      <td>8.65</td>\n",
       "      <td>12.36</td>\n",
       "      <td>11.810</td>\n",
       "      <td>8.800</td>\n",
       "    </tr>\n",
       "    <tr>\n",
       "      <th>205</th>\n",
       "      <td>Albania</td>\n",
       "      <td>NaN</td>\n",
       "      <td>NaN</td>\n",
       "      <td>NaN</td>\n",
       "      <td>NaN</td>\n",
       "      <td>NaN</td>\n",
       "      <td>24.5</td>\n",
       "      <td>10.8</td>\n",
       "      <td>25.1</td>\n",
       "      <td>27.8</td>\n",
       "      <td>...</td>\n",
       "      <td>27.20</td>\n",
       "      <td>25.00</td>\n",
       "      <td>5.70</td>\n",
       "      <td>7.10</td>\n",
       "      <td>3.87</td>\n",
       "      <td>1.75</td>\n",
       "      <td>3.62</td>\n",
       "      <td>2.76</td>\n",
       "      <td>0.900</td>\n",
       "      <td>0.240</td>\n",
       "    </tr>\n",
       "    <tr>\n",
       "      <th>206</th>\n",
       "      <td>United Arab Emirates</td>\n",
       "      <td>NaN</td>\n",
       "      <td>NaN</td>\n",
       "      <td>NaN</td>\n",
       "      <td>NaN</td>\n",
       "      <td>NaN</td>\n",
       "      <td>NaN</td>\n",
       "      <td>NaN</td>\n",
       "      <td>NaN</td>\n",
       "      <td>NaN</td>\n",
       "      <td>...</td>\n",
       "      <td>NaN</td>\n",
       "      <td>NaN</td>\n",
       "      <td>NaN</td>\n",
       "      <td>NaN</td>\n",
       "      <td>7.17</td>\n",
       "      <td>0.45</td>\n",
       "      <td>-0.30</td>\n",
       "      <td>-2.42</td>\n",
       "      <td>-2.580</td>\n",
       "      <td>0.250</td>\n",
       "    </tr>\n",
       "    <tr>\n",
       "      <th>207</th>\n",
       "      <td>Argentina</td>\n",
       "      <td>2861.9</td>\n",
       "      <td>178.0</td>\n",
       "      <td>24.4</td>\n",
       "      <td>18.9</td>\n",
       "      <td>-4.1</td>\n",
       "      <td>6.8</td>\n",
       "      <td>3.6</td>\n",
       "      <td>1.0</td>\n",
       "      <td>-0.1</td>\n",
       "      <td>...</td>\n",
       "      <td>0.80</td>\n",
       "      <td>4.20</td>\n",
       "      <td>-2.30</td>\n",
       "      <td>NaN</td>\n",
       "      <td>NaN</td>\n",
       "      <td>NaN</td>\n",
       "      <td>NaN</td>\n",
       "      <td>NaN</td>\n",
       "      <td>NaN</td>\n",
       "      <td>NaN</td>\n",
       "    </tr>\n",
       "    <tr>\n",
       "      <th>...</th>\n",
       "      <td>...</td>\n",
       "      <td>...</td>\n",
       "      <td>...</td>\n",
       "      <td>...</td>\n",
       "      <td>...</td>\n",
       "      <td>...</td>\n",
       "      <td>...</td>\n",
       "      <td>...</td>\n",
       "      <td>...</td>\n",
       "      <td>...</td>\n",
       "      <td>...</td>\n",
       "      <td>...</td>\n",
       "      <td>...</td>\n",
       "      <td>...</td>\n",
       "      <td>...</td>\n",
       "      <td>...</td>\n",
       "      <td>...</td>\n",
       "      <td>...</td>\n",
       "      <td>...</td>\n",
       "      <td>...</td>\n",
       "      <td>...</td>\n",
       "    </tr>\n",
       "    <tr>\n",
       "      <th>370</th>\n",
       "      <td>South Africa</td>\n",
       "      <td>15.4</td>\n",
       "      <td>12.3</td>\n",
       "      <td>12.6</td>\n",
       "      <td>15.7</td>\n",
       "      <td>9.6</td>\n",
       "      <td>7.9</td>\n",
       "      <td>7.1</td>\n",
       "      <td>7.8</td>\n",
       "      <td>8.2</td>\n",
       "      <td>...</td>\n",
       "      <td>-10.64</td>\n",
       "      <td>0.60</td>\n",
       "      <td>4.40</td>\n",
       "      <td>11.15</td>\n",
       "      <td>12.18</td>\n",
       "      <td>7.91</td>\n",
       "      <td>6.69</td>\n",
       "      <td>6.63</td>\n",
       "      <td>6.190</td>\n",
       "      <td>5.600</td>\n",
       "    </tr>\n",
       "    <tr>\n",
       "      <th>371</th>\n",
       "      <td>Zambia</td>\n",
       "      <td>92.3</td>\n",
       "      <td>212.0</td>\n",
       "      <td>121.8</td>\n",
       "      <td>270.5</td>\n",
       "      <td>56.0</td>\n",
       "      <td>41.9</td>\n",
       "      <td>41.3</td>\n",
       "      <td>35.8</td>\n",
       "      <td>29.7</td>\n",
       "      <td>...</td>\n",
       "      <td>NaN</td>\n",
       "      <td>NaN</td>\n",
       "      <td>NaN</td>\n",
       "      <td>NaN</td>\n",
       "      <td>NaN</td>\n",
       "      <td>NaN</td>\n",
       "      <td>18.24</td>\n",
       "      <td>12.45</td>\n",
       "      <td>5.180</td>\n",
       "      <td>8.440</td>\n",
       "    </tr>\n",
       "    <tr>\n",
       "      <th>372</th>\n",
       "      <td>Zimbabwe</td>\n",
       "      <td>9.5</td>\n",
       "      <td>41.8</td>\n",
       "      <td>NaN</td>\n",
       "      <td>NaN</td>\n",
       "      <td>NaN</td>\n",
       "      <td>NaN</td>\n",
       "      <td>NaN</td>\n",
       "      <td>NaN</td>\n",
       "      <td>NaN</td>\n",
       "      <td>...</td>\n",
       "      <td>NaN</td>\n",
       "      <td>NaN</td>\n",
       "      <td>NaN</td>\n",
       "      <td>NaN</td>\n",
       "      <td>NaN</td>\n",
       "      <td>14.42</td>\n",
       "      <td>7.99</td>\n",
       "      <td>4.46</td>\n",
       "      <td>11.800</td>\n",
       "      <td>4.470</td>\n",
       "    </tr>\n",
       "    <tr>\n",
       "      <th>373</th>\n",
       "      <td>British Virgin Islands</td>\n",
       "      <td>NaN</td>\n",
       "      <td>NaN</td>\n",
       "      <td>NaN</td>\n",
       "      <td>NaN</td>\n",
       "      <td>NaN</td>\n",
       "      <td>NaN</td>\n",
       "      <td>NaN</td>\n",
       "      <td>NaN</td>\n",
       "      <td>NaN</td>\n",
       "      <td>...</td>\n",
       "      <td>NaN</td>\n",
       "      <td>NaN</td>\n",
       "      <td>NaN</td>\n",
       "      <td>NaN</td>\n",
       "      <td>NaN</td>\n",
       "      <td>NaN</td>\n",
       "      <td>NaN</td>\n",
       "      <td>NaN</td>\n",
       "      <td>NaN</td>\n",
       "      <td>-0.100</td>\n",
       "    </tr>\n",
       "    <tr>\n",
       "      <th>374</th>\n",
       "      <td>New Caledonia</td>\n",
       "      <td>NaN</td>\n",
       "      <td>NaN</td>\n",
       "      <td>NaN</td>\n",
       "      <td>NaN</td>\n",
       "      <td>NaN</td>\n",
       "      <td>NaN</td>\n",
       "      <td>NaN</td>\n",
       "      <td>NaN</td>\n",
       "      <td>NaN</td>\n",
       "      <td>...</td>\n",
       "      <td>NaN</td>\n",
       "      <td>NaN</td>\n",
       "      <td>NaN</td>\n",
       "      <td>NaN</td>\n",
       "      <td>NaN</td>\n",
       "      <td>NaN</td>\n",
       "      <td>NaN</td>\n",
       "      <td>NaN</td>\n",
       "      <td>4.177</td>\n",
       "      <td>-0.308</td>\n",
       "    </tr>\n",
       "  </tbody>\n",
       "</table>\n",
       "<p>172 rows × 25 columns</p>\n",
       "</div>"
      ],
      "text/plain": [
       "                    Country    1990   1991   1992   1993  1994  1995  1996  \\\n",
       "203                   Aruba     NaN    NaN    NaN    NaN   NaN   NaN   NaN   \n",
       "204             Afghanistan    66.1    NaN    NaN    NaN   NaN   NaN   NaN   \n",
       "205                 Albania     NaN    NaN    NaN    NaN   NaN  24.5  10.8   \n",
       "206    United Arab Emirates     NaN    NaN    NaN    NaN   NaN   NaN   NaN   \n",
       "207               Argentina  2861.9  178.0   24.4   18.9  -4.1   6.8   3.6   \n",
       "..                      ...     ...    ...    ...    ...   ...   ...   ...   \n",
       "370            South Africa    15.4   12.3   12.6   15.7   9.6   7.9   7.1   \n",
       "371                  Zambia    92.3  212.0  121.8  270.5  56.0  41.9  41.3   \n",
       "372                Zimbabwe     9.5   41.8    NaN    NaN   NaN   NaN   NaN   \n",
       "373  British Virgin Islands     NaN    NaN    NaN    NaN   NaN   NaN   NaN   \n",
       "374           New Caledonia     NaN    NaN    NaN    NaN   NaN   NaN   NaN   \n",
       "\n",
       "     1997  1998  ...   2004   2005   2006   2007   2008   2009   2010   2011  \\\n",
       "203   NaN   NaN  ...   2.08   6.69   7.43   5.51  13.79  -8.20   9.43   7.16   \n",
       "204   NaN   NaN  ...    NaN    NaN  10.46   3.31   8.41   2.48   8.65  12.36   \n",
       "205  25.1  27.8  ...  27.20  25.00   5.70   7.10   3.87   1.75   3.62   2.76   \n",
       "206   NaN   NaN  ...    NaN    NaN    NaN    NaN   7.17   0.45  -0.30  -2.42   \n",
       "207   1.0  -0.1  ...   0.80   4.20  -2.30    NaN    NaN    NaN    NaN    NaN   \n",
       "..    ...   ...  ...    ...    ...    ...    ...    ...    ...    ...    ...   \n",
       "370   7.8   8.2  ... -10.64   0.60   4.40  11.15  12.18   7.91   6.69   6.63   \n",
       "371  35.8  29.7  ...    NaN    NaN    NaN    NaN    NaN    NaN  18.24  12.45   \n",
       "372   NaN   NaN  ...    NaN    NaN    NaN    NaN    NaN  14.42   7.99   4.46   \n",
       "373   NaN   NaN  ...    NaN    NaN    NaN    NaN    NaN    NaN    NaN    NaN   \n",
       "374   NaN   NaN  ...    NaN    NaN    NaN    NaN    NaN    NaN    NaN    NaN   \n",
       "\n",
       "       2012   2013  \n",
       "203   0.810 -7.460  \n",
       "204  11.810  8.800  \n",
       "205   0.900  0.240  \n",
       "206  -2.580  0.250  \n",
       "207     NaN    NaN  \n",
       "..      ...    ...  \n",
       "370   6.190  5.600  \n",
       "371   5.180  8.440  \n",
       "372  11.800  4.470  \n",
       "373     NaN -0.100  \n",
       "374   4.177 -0.308  \n",
       "\n",
       "[172 rows x 25 columns]"
      ]
     },
     "execution_count": 76,
     "metadata": {},
     "output_type": "execute_result"
    }
   ],
   "source": [
    "# only keep with Series Name: 'Energy Consumer Price Inflation'\n",
    "\n",
    "gInf = gInf[gInf['Series Name'] == 'Energy Consumer Price Inflation']\n",
    "\n",
    "gInf = gInf.drop(['Country Code', 'IMF Country Code', 'Series Name', 'Indicator Type', '1970', '1971', '1972', '1973', '1974', '1975', '1976',\n",
    "                  '1977', '1978', '1979', '1980', '1981', '1982', '1983', '1984', '1985',\n",
    "                  '1986', '1987', '1988', '1989', '2014', '2015', '2016', '2017', '2018', '2019', '2020', '2021',\n",
    "                  '2022', 'Note', 'Unnamed: 59', 'Unnamed: 60', 'Unnamed: 61',\n",
    "                  'Unnamed: 62', 'Unnamed: 63'], axis=1)\n",
    "\n",
    "gInf\n"
   ]
  },
  {
   "cell_type": "code",
   "execution_count": 77,
   "metadata": {},
   "outputs": [],
   "source": [
    "# save data to csv file\n",
    "gInf.to_csv(data_path + '/interim_data/globalInflation.csv', index=False)"
   ]
  }
 ],
 "metadata": {
  "kernelspec": {
   "display_name": "base",
   "language": "python",
   "name": "python3"
  },
  "language_info": {
   "codemirror_mode": {
    "name": "ipython",
    "version": 3
   },
   "file_extension": ".py",
   "mimetype": "text/x-python",
   "name": "python",
   "nbconvert_exporter": "python",
   "pygments_lexer": "ipython3",
   "version": "3.10.9"
  },
  "orig_nbformat": 4
 },
 "nbformat": 4,
 "nbformat_minor": 2
}
